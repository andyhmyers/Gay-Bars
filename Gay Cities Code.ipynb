{
 "cells": [
  {
   "cell_type": "code",
   "execution_count": 41,
   "metadata": {},
   "outputs": [],
   "source": [
    "#Analysis of Gay Friendly Cities\n",
    "#by Andy Myers"
   ]
  },
  {
   "cell_type": "code",
   "execution_count": 42,
   "metadata": {},
   "outputs": [],
   "source": [
    "from datascience import *\n",
    "import numpy as np\n",
    "Table.interactive_plots()"
   ]
  },
  {
   "cell_type": "code",
   "execution_count": 43,
   "metadata": {},
   "outputs": [],
   "source": [
    "lgbt = Table.read_table('gayborhoods.csv')"
   ]
  },
  {
   "cell_type": "code",
   "execution_count": 44,
   "metadata": {},
   "outputs": [
    {
     "data": {
      "text/html": [
       "<table border=\"1\" class=\"dataframe\">\n",
       "    <thead>\n",
       "        <tr>\n",
       "            <th>GEOID10</th> <th>Tax_Mjoint</th> <th>Mjoint_MF</th> <th>Mjoint_SS</th> <th>Mjoint_FF</th> <th>Mjoint_MM</th> <th>TaxRate_SS</th> <th>TaxRate_FF</th> <th>TaxRate_MM</th> <th>Cns_TotHH</th> <th>Cns_UPSS</th> <th>Cns_UPFF</th> <th>Cns_UPMM</th> <th>Cns_RateSS</th> <th>Cns_RateFF</th> <th>Cns_RateMM</th> <th>ParadeFlag</th> <th>CountBars</th> <th>FF_Tax</th> <th>FF_Cns</th> <th>FF_Index</th> <th>MM_Tax</th> <th>MM_Cns</th> <th>MM_Index</th> <th>SS_Index</th> <th>SS_Index_Weight</th> <th>Parade_Weight</th> <th>Bars_Weight</th> <th>TOTINDEX</th>\n",
       "        </tr>\n",
       "    </thead>\n",
       "    <tbody>\n",
       "        <tr>\n",
       "            <td>90069  </td> <td>2120      </td> <td>1689     </td> <td>431      </td> <td>61       </td> <td>370      </td> <td>203.302   </td> <td>28.7736   </td> <td>174.528   </td> <td>12551    </td> <td>968     </td> <td>87      </td> <td>881     </td> <td>77.1253   </td> <td>6.93172   </td> <td>70.1936   </td> <td>1         </td> <td>15       </td> <td>4.87732</td> <td>1.8471  </td> <td>6.72442 </td> <td>29.5837</td> <td>18.7045</td> <td>48.2883 </td> <td>55.0127 </td> <td>39.43          </td> <td>10           </td> <td>17.6471    </td> <td>67.0771 </td>\n",
       "        </tr>\n",
       "        <tr>\n",
       "            <td>94114  </td> <td>5080      </td> <td>4036     </td> <td>1044     </td> <td>170      </td> <td>874      </td> <td>205.512   </td> <td>33.4646   </td> <td>172.047   </td> <td>16456    </td> <td>1456    </td> <td>257     </td> <td>1199    </td> <td>88.4784   </td> <td>15.6174   </td> <td>72.861    </td> <td>0         </td> <td>17       </td> <td>5.67247</td> <td>4.16158 </td> <td>9.83405 </td> <td>29.1632</td> <td>19.4153</td> <td>48.5785 </td> <td>58.4125 </td> <td>41.8668        </td> <td>0            </td> <td>20         </td> <td>61.8668 </td>\n",
       "        </tr>\n",
       "        <tr>\n",
       "            <td>10011  </td> <td>5790      </td> <td>5166     </td> <td>624      </td> <td>97       </td> <td>527      </td> <td>107.772   </td> <td>16.753    </td> <td>91.019    </td> <td>29762    </td> <td>1392    </td> <td>171     </td> <td>1221    </td> <td>46.7711   </td> <td>5.74558   </td> <td>41.0255   </td> <td>1         </td> <td>5        </td> <td>2.83975</td> <td>1.53103 </td> <td>4.37078 </td> <td>15.4283</td> <td>10.9321</td> <td>26.3604 </td> <td>30.7312 </td> <td>22.0264        </td> <td>10           </td> <td>5.88235    </td> <td>37.9087 </td>\n",
       "        </tr>\n",
       "        <tr>\n",
       "            <td>10014  </td> <td>3510      </td> <td>3229     </td> <td>281      </td> <td>74       </td> <td>207      </td> <td>80.057    </td> <td>21.0826   </td> <td>58.9744   </td> <td>18786    </td> <td>594     </td> <td>175     </td> <td>419     </td> <td>31.6193   </td> <td>9.31545   </td> <td>22.3038   </td> <td>1         </td> <td>10       </td> <td>3.57365</td> <td>2.48229 </td> <td>6.05594 </td> <td>9.99655</td> <td>5.94332</td> <td>15.9399 </td> <td>21.9958 </td> <td>15.7654        </td> <td>10           </td> <td>11.7647    </td> <td>37.5301 </td>\n",
       "        </tr>\n",
       "        <tr>\n",
       "            <td>94103  </td> <td>2660      </td> <td>2417     </td> <td>243      </td> <td>34       </td> <td>209      </td> <td>91.3534   </td> <td>12.782    </td> <td>78.5714   </td> <td>12728    </td> <td>277     </td> <td>40      </td> <td>237     </td> <td>21.763    </td> <td>3.14268   </td> <td>18.6204   </td> <td>1         </td> <td>9        </td> <td>2.16663</td> <td>0.837431</td> <td>3.00406 </td> <td>13.3184</td> <td>4.96178</td> <td>18.2802 </td> <td>21.2842 </td> <td>15.2553        </td> <td>10           </td> <td>10.5882    </td> <td>35.8436 </td>\n",
       "        </tr>\n",
       "        <tr>\n",
       "            <td>70116  </td> <td>570       </td> <td>528      </td> <td>42       </td> <td>8        </td> <td>34       </td> <td>73.6842   </td> <td>14.0351   </td> <td>59.6491   </td> <td>6235     </td> <td>188     </td> <td>21      </td> <td>167     </td> <td>30.1524   </td> <td>3.36808   </td> <td>26.7843   </td> <td>1         </td> <td>9        </td> <td>2.37904</td> <td>0.897495</td> <td>3.27654 </td> <td>10.1109</td> <td>7.13722</td> <td>17.2482 </td> <td>20.5247 </td> <td>14.7109        </td> <td>10           </td> <td>10.5882    </td> <td>35.2992 </td>\n",
       "        </tr>\n",
       "        <tr>\n",
       "            <td>20009  </td> <td>4350      </td> <td>3898     </td> <td>452      </td> <td>60       </td> <td>392      </td> <td>103.908   </td> <td>13.7931   </td> <td>90.1149   </td> <td>26682    </td> <td>927     </td> <td>176     </td> <td>751     </td> <td>34.7425   </td> <td>6.59621   </td> <td>28.1463   </td> <td>1         </td> <td>5        </td> <td>2.33802</td> <td>1.7577  </td> <td>4.09572 </td> <td>15.2751</td> <td>7.50017</td> <td>22.7753 </td> <td>26.871  </td> <td>19.2596        </td> <td>10           </td> <td>5.88235    </td> <td>35.142  </td>\n",
       "        </tr>\n",
       "        <tr>\n",
       "            <td>98122  </td> <td>3940      </td> <td>3552     </td> <td>388      </td> <td>131      </td> <td>257      </td> <td>98.4772   </td> <td>33.2487   </td> <td>65.2284   </td> <td>16673    </td> <td>520     </td> <td>110     </td> <td>410     </td> <td>31.1881   </td> <td>6.59749   </td> <td>24.5907   </td> <td>0         </td> <td>12       </td> <td>5.63588</td> <td>1.75804 </td> <td>7.39392 </td> <td>11.0567</td> <td>6.55269</td> <td>17.6093 </td> <td>25.0033 </td> <td>17.9209        </td> <td>0            </td> <td>14.1176    </td> <td>32.0386 </td>\n",
       "        </tr>\n",
       "        <tr>\n",
       "            <td>30309  </td> <td>2900      </td> <td>2765     </td> <td>135      </td> <td>16       </td> <td>119      </td> <td>46.5517   </td> <td>5.51724   </td> <td>41.0345   </td> <td>12896    </td> <td>466     </td> <td>30      </td> <td>436     </td> <td>36.1352   </td> <td>2.3263    </td> <td>33.8089   </td> <td>1         </td> <td>8        </td> <td>0.93521</td> <td>0.619891</td> <td>1.5551  </td> <td>6.95562</td> <td>9.00909</td> <td>15.9647 </td> <td>17.5198 </td> <td>12.5572        </td> <td>10           </td> <td>9.41176    </td> <td>31.969  </td>\n",
       "        </tr>\n",
       "        <tr>\n",
       "            <td>90046  </td> <td>4680      </td> <td>4204     </td> <td>476      </td> <td>71       </td> <td>405      </td> <td>101.709   </td> <td>15.1709   </td> <td>86.5385   </td> <td>29069    </td> <td>1002    </td> <td>155     </td> <td>847     </td> <td>34.4697   </td> <td>5.33214   </td> <td>29.1376   </td> <td>1         </td> <td>2        </td> <td>2.57158</td> <td>1.42086 </td> <td>3.99244 </td> <td>14.6689</td> <td>7.76431</td> <td>22.4332 </td> <td>26.4256 </td> <td>18.9404        </td> <td>10           </td> <td>2.35294    </td> <td>31.2933 </td>\n",
       "        </tr>\n",
       "    </tbody>\n",
       "</table>\n",
       "<p>... (2318 rows omitted)</p>"
      ],
      "text/plain": [
       "GEOID10 | Tax_Mjoint | Mjoint_MF | Mjoint_SS | Mjoint_FF | Mjoint_MM | TaxRate_SS | TaxRate_FF | TaxRate_MM | Cns_TotHH | Cns_UPSS | Cns_UPFF | Cns_UPMM | Cns_RateSS | Cns_RateFF | Cns_RateMM | ParadeFlag | CountBars | FF_Tax  | FF_Cns   | FF_Index | MM_Tax  | MM_Cns  | MM_Index | SS_Index | SS_Index_Weight | Parade_Weight | Bars_Weight | TOTINDEX\n",
       "90069   | 2120       | 1689      | 431       | 61        | 370       | 203.302    | 28.7736    | 174.528    | 12551     | 968      | 87       | 881      | 77.1253    | 6.93172    | 70.1936    | 1          | 15        | 4.87732 | 1.8471   | 6.72442  | 29.5837 | 18.7045 | 48.2883  | 55.0127  | 39.43           | 10            | 17.6471     | 67.0771\n",
       "94114   | 5080       | 4036      | 1044      | 170       | 874       | 205.512    | 33.4646    | 172.047    | 16456     | 1456     | 257      | 1199     | 88.4784    | 15.6174    | 72.861     | 0          | 17        | 5.67247 | 4.16158  | 9.83405  | 29.1632 | 19.4153 | 48.5785  | 58.4125  | 41.8668         | 0             | 20          | 61.8668\n",
       "10011   | 5790       | 5166      | 624       | 97        | 527       | 107.772    | 16.753     | 91.019     | 29762     | 1392     | 171      | 1221     | 46.7711    | 5.74558    | 41.0255    | 1          | 5         | 2.83975 | 1.53103  | 4.37078  | 15.4283 | 10.9321 | 26.3604  | 30.7312  | 22.0264         | 10            | 5.88235     | 37.9087\n",
       "10014   | 3510       | 3229      | 281       | 74        | 207       | 80.057     | 21.0826    | 58.9744    | 18786     | 594      | 175      | 419      | 31.6193    | 9.31545    | 22.3038    | 1          | 10        | 3.57365 | 2.48229  | 6.05594  | 9.99655 | 5.94332 | 15.9399  | 21.9958  | 15.7654         | 10            | 11.7647     | 37.5301\n",
       "94103   | 2660       | 2417      | 243       | 34        | 209       | 91.3534    | 12.782     | 78.5714    | 12728     | 277      | 40       | 237      | 21.763     | 3.14268    | 18.6204    | 1          | 9         | 2.16663 | 0.837431 | 3.00406  | 13.3184 | 4.96178 | 18.2802  | 21.2842  | 15.2553         | 10            | 10.5882     | 35.8436\n",
       "70116   | 570        | 528       | 42        | 8         | 34        | 73.6842    | 14.0351    | 59.6491    | 6235      | 188      | 21       | 167      | 30.1524    | 3.36808    | 26.7843    | 1          | 9         | 2.37904 | 0.897495 | 3.27654  | 10.1109 | 7.13722 | 17.2482  | 20.5247  | 14.7109         | 10            | 10.5882     | 35.2992\n",
       "20009   | 4350       | 3898      | 452       | 60        | 392       | 103.908    | 13.7931    | 90.1149    | 26682     | 927      | 176      | 751      | 34.7425    | 6.59621    | 28.1463    | 1          | 5         | 2.33802 | 1.7577   | 4.09572  | 15.2751 | 7.50017 | 22.7753  | 26.871   | 19.2596         | 10            | 5.88235     | 35.142\n",
       "98122   | 3940       | 3552      | 388       | 131       | 257       | 98.4772    | 33.2487    | 65.2284    | 16673     | 520      | 110      | 410      | 31.1881    | 6.59749    | 24.5907    | 0          | 12        | 5.63588 | 1.75804  | 7.39392  | 11.0567 | 6.55269 | 17.6093  | 25.0033  | 17.9209         | 0             | 14.1176     | 32.0386\n",
       "30309   | 2900       | 2765      | 135       | 16        | 119       | 46.5517    | 5.51724    | 41.0345    | 12896     | 466      | 30       | 436      | 36.1352    | 2.3263     | 33.8089    | 1          | 8         | 0.93521 | 0.619891 | 1.5551   | 6.95562 | 9.00909 | 15.9647  | 17.5198  | 12.5572         | 10            | 9.41176     | 31.969\n",
       "90046   | 4680       | 4204      | 476       | 71        | 405       | 101.709    | 15.1709    | 86.5385    | 29069     | 1002     | 155      | 847      | 34.4697    | 5.33214    | 29.1376    | 1          | 2         | 2.57158 | 1.42086  | 3.99244  | 14.6689 | 7.76431 | 22.4332  | 26.4256  | 18.9404         | 10            | 2.35294     | 31.2933\n",
       "... (2318 rows omitted)"
      ]
     },
     "execution_count": 44,
     "metadata": {},
     "output_type": "execute_result"
    }
   ],
   "source": [
    "lgbt"
   ]
  },
  {
   "cell_type": "code",
   "execution_count": 45,
   "metadata": {},
   "outputs": [
    {
     "data": {
      "text/html": [
       "<table border=\"1\" class=\"dataframe\">\n",
       "    <thead>\n",
       "        <tr>\n",
       "            <th>GEOID10</th> <th>CountBars</th> <th>Bars_Weight</th>\n",
       "        </tr>\n",
       "    </thead>\n",
       "    <tbody>\n",
       "        <tr>\n",
       "            <td>94114  </td> <td>17       </td> <td>20         </td>\n",
       "        </tr>\n",
       "        <tr>\n",
       "            <td>90069  </td> <td>15       </td> <td>17.6471    </td>\n",
       "        </tr>\n",
       "        <tr>\n",
       "            <td>98122  </td> <td>12       </td> <td>14.1176    </td>\n",
       "        </tr>\n",
       "        <tr>\n",
       "            <td>10014  </td> <td>10       </td> <td>11.7647    </td>\n",
       "        </tr>\n",
       "        <tr>\n",
       "            <td>94103  </td> <td>9        </td> <td>10.5882    </td>\n",
       "        </tr>\n",
       "        <tr>\n",
       "            <td>70116  </td> <td>9        </td> <td>10.5882    </td>\n",
       "        </tr>\n",
       "        <tr>\n",
       "            <td>19107  </td> <td>9        </td> <td>10.5882    </td>\n",
       "        </tr>\n",
       "        <tr>\n",
       "            <td>60657  </td> <td>9        </td> <td>10.5882    </td>\n",
       "        </tr>\n",
       "        <tr>\n",
       "            <td>30309  </td> <td>8        </td> <td>9.41176    </td>\n",
       "        </tr>\n",
       "        <tr>\n",
       "            <td>10036  </td> <td>8        </td> <td>9.41176    </td>\n",
       "        </tr>\n",
       "    </tbody>\n",
       "</table>\n",
       "<p>... (5 rows omitted)</p>"
      ],
      "text/plain": [
       "GEOID10 | CountBars | Bars_Weight\n",
       "94114   | 17        | 20\n",
       "90069   | 15        | 17.6471\n",
       "98122   | 12        | 14.1176\n",
       "10014   | 10        | 11.7647\n",
       "94103   | 9         | 10.5882\n",
       "70116   | 9         | 10.5882\n",
       "19107   | 9         | 10.5882\n",
       "60657   | 9         | 10.5882\n",
       "30309   | 8         | 9.41176\n",
       "10036   | 8         | 9.41176\n",
       "... (5 rows omitted)"
      ]
     },
     "execution_count": 45,
     "metadata": {},
     "output_type": "execute_result"
    }
   ],
   "source": [
    "lgbt.select('GEOID10', 'CountBars', 'Bars_Weight') \\\n",
    "            .sort('CountBars', descending = True) \\\n",
    "            .take(np.arange(15))"
   ]
  },
  {
   "cell_type": "code",
   "execution_count": 46,
   "metadata": {},
   "outputs": [],
   "source": [
    "fig = lgbt.select('GEOID10', 'CountBars', 'Bars_Weight') \\\n",
    "            .sort('CountBars', descending = True) \\\n",
    "            .take(np.arange(15)) \\\n",
    "            .barh('GEOID10','CountBars', \n",
    "                  title = 'Number of LGBT Bars Per U.S. Zipcode',\n",
    "                  xaxis_title = 'Number of Bars',\n",
    "                  yaxis_title = 'Zipcode',\n",
    "                 show = False)"
   ]
  },
  {
   "cell_type": "code",
   "execution_count": 47,
   "metadata": {},
   "outputs": [
    {
     "name": "stdout",
     "output_type": "stream",
     "text": [
      "<div>                            <div id=\"54f9000b-3900-43a7-9e9e-38b842528449\" class=\"plotly-graph-div\" style=\"height:500px; width:100%;\"></div>            <script type=\"text/javascript\">                                    window.PLOTLYENV=window.PLOTLYENV || {};                                    if (document.getElementById(\"54f9000b-3900-43a7-9e9e-38b842528449\")) {                    Plotly.newPlot(                        \"54f9000b-3900-43a7-9e9e-38b842528449\",                        [{\"customdata\": [20009, 10011, 30324, 77006, 10019, 10036, 30309, 60657, 19107, 70116, 94103, 10014, 98122, 90069, 94114], \"hovertemplate\": \"(%{x}, %{customdata})\", \"marker\": {\"color\": \"rgb(0,30,66)\"}, \"name\": \"CountBars\", \"opacity\": 0.7, \"orientation\": \"h\", \"type\": \"bar\", \"x\": [5, 5, 7, 8, 8, 8, 8, 9, 9, 9, 9, 10, 12, 15, 17], \"y\": [\"20009  \", \"10011  \", \"30324  \", \"77006  \", \"10019  \", \"10036  \", \"30309  \", \"60657  \", \"19107  \", \"70116  \", \"94103  \", \"10014  \", \"98122  \", \"90069  \", \"94114  \"]}],                        {\"height\": 500, \"template\": {\"data\": {\"bar\": [{\"error_x\": {\"color\": \"#2a3f5f\"}, \"error_y\": {\"color\": \"#2a3f5f\"}, \"marker\": {\"line\": {\"color\": \"#E5ECF6\", \"width\": 0.5}}, \"type\": \"bar\"}], \"barpolar\": [{\"marker\": {\"line\": {\"color\": \"#E5ECF6\", \"width\": 0.5}}, \"type\": \"barpolar\"}], \"carpet\": [{\"aaxis\": {\"endlinecolor\": \"#2a3f5f\", \"gridcolor\": \"white\", \"linecolor\": \"white\", \"minorgridcolor\": \"white\", \"startlinecolor\": \"#2a3f5f\"}, \"baxis\": {\"endlinecolor\": \"#2a3f5f\", \"gridcolor\": \"white\", \"linecolor\": \"white\", \"minorgridcolor\": \"white\", \"startlinecolor\": \"#2a3f5f\"}, \"type\": \"carpet\"}], \"choropleth\": [{\"colorbar\": {\"outlinewidth\": 0, \"ticks\": \"\"}, \"type\": \"choropleth\"}], \"contour\": [{\"colorbar\": {\"outlinewidth\": 0, \"ticks\": \"\"}, \"colorscale\": [[0.0, \"#0d0887\"], [0.1111111111111111, \"#46039f\"], [0.2222222222222222, \"#7201a8\"], [0.3333333333333333, \"#9c179e\"], [0.4444444444444444, \"#bd3786\"], [0.5555555555555556, \"#d8576b\"], [0.6666666666666666, \"#ed7953\"], [0.7777777777777778, \"#fb9f3a\"], [0.8888888888888888, \"#fdca26\"], [1.0, \"#f0f921\"]], \"type\": \"contour\"}], \"contourcarpet\": [{\"colorbar\": {\"outlinewidth\": 0, \"ticks\": \"\"}, \"type\": \"contourcarpet\"}], \"heatmap\": [{\"colorbar\": {\"outlinewidth\": 0, \"ticks\": \"\"}, \"colorscale\": [[0.0, \"#0d0887\"], [0.1111111111111111, \"#46039f\"], [0.2222222222222222, \"#7201a8\"], [0.3333333333333333, \"#9c179e\"], [0.4444444444444444, \"#bd3786\"], [0.5555555555555556, \"#d8576b\"], [0.6666666666666666, \"#ed7953\"], [0.7777777777777778, \"#fb9f3a\"], [0.8888888888888888, \"#fdca26\"], [1.0, \"#f0f921\"]], \"type\": \"heatmap\"}], \"heatmapgl\": [{\"colorbar\": {\"outlinewidth\": 0, \"ticks\": \"\"}, \"colorscale\": [[0.0, \"#0d0887\"], [0.1111111111111111, \"#46039f\"], [0.2222222222222222, \"#7201a8\"], [0.3333333333333333, \"#9c179e\"], [0.4444444444444444, \"#bd3786\"], [0.5555555555555556, \"#d8576b\"], [0.6666666666666666, \"#ed7953\"], [0.7777777777777778, \"#fb9f3a\"], [0.8888888888888888, \"#fdca26\"], [1.0, \"#f0f921\"]], \"type\": \"heatmapgl\"}], \"histogram\": [{\"marker\": {\"colorbar\": {\"outlinewidth\": 0, \"ticks\": \"\"}}, \"type\": \"histogram\"}], \"histogram2d\": [{\"colorbar\": {\"outlinewidth\": 0, \"ticks\": \"\"}, \"colorscale\": [[0.0, \"#0d0887\"], [0.1111111111111111, \"#46039f\"], [0.2222222222222222, \"#7201a8\"], [0.3333333333333333, \"#9c179e\"], [0.4444444444444444, \"#bd3786\"], [0.5555555555555556, \"#d8576b\"], [0.6666666666666666, \"#ed7953\"], [0.7777777777777778, \"#fb9f3a\"], [0.8888888888888888, \"#fdca26\"], [1.0, \"#f0f921\"]], \"type\": \"histogram2d\"}], \"histogram2dcontour\": [{\"colorbar\": {\"outlinewidth\": 0, \"ticks\": \"\"}, \"colorscale\": [[0.0, \"#0d0887\"], [0.1111111111111111, \"#46039f\"], [0.2222222222222222, \"#7201a8\"], [0.3333333333333333, \"#9c179e\"], [0.4444444444444444, \"#bd3786\"], [0.5555555555555556, \"#d8576b\"], [0.6666666666666666, \"#ed7953\"], [0.7777777777777778, \"#fb9f3a\"], [0.8888888888888888, \"#fdca26\"], [1.0, \"#f0f921\"]], \"type\": \"histogram2dcontour\"}], \"mesh3d\": [{\"colorbar\": {\"outlinewidth\": 0, \"ticks\": \"\"}, \"type\": \"mesh3d\"}], \"parcoords\": [{\"line\": {\"colorbar\": {\"outlinewidth\": 0, \"ticks\": \"\"}}, \"type\": \"parcoords\"}], \"pie\": [{\"automargin\": true, \"type\": \"pie\"}], \"scatter\": [{\"marker\": {\"colorbar\": {\"outlinewidth\": 0, \"ticks\": \"\"}}, \"type\": \"scatter\"}], \"scatter3d\": [{\"line\": {\"colorbar\": {\"outlinewidth\": 0, \"ticks\": \"\"}}, \"marker\": {\"colorbar\": {\"outlinewidth\": 0, \"ticks\": \"\"}}, \"type\": \"scatter3d\"}], \"scattercarpet\": [{\"marker\": {\"colorbar\": {\"outlinewidth\": 0, \"ticks\": \"\"}}, \"type\": \"scattercarpet\"}], \"scattergeo\": [{\"marker\": {\"colorbar\": {\"outlinewidth\": 0, \"ticks\": \"\"}}, \"type\": \"scattergeo\"}], \"scattergl\": [{\"marker\": {\"colorbar\": {\"outlinewidth\": 0, \"ticks\": \"\"}}, \"type\": \"scattergl\"}], \"scattermapbox\": [{\"marker\": {\"colorbar\": {\"outlinewidth\": 0, \"ticks\": \"\"}}, \"type\": \"scattermapbox\"}], \"scatterpolar\": [{\"marker\": {\"colorbar\": {\"outlinewidth\": 0, \"ticks\": \"\"}}, \"type\": \"scatterpolar\"}], \"scatterpolargl\": [{\"marker\": {\"colorbar\": {\"outlinewidth\": 0, \"ticks\": \"\"}}, \"type\": \"scatterpolargl\"}], \"scatterternary\": [{\"marker\": {\"colorbar\": {\"outlinewidth\": 0, \"ticks\": \"\"}}, \"type\": \"scatterternary\"}], \"surface\": [{\"colorbar\": {\"outlinewidth\": 0, \"ticks\": \"\"}, \"colorscale\": [[0.0, \"#0d0887\"], [0.1111111111111111, \"#46039f\"], [0.2222222222222222, \"#7201a8\"], [0.3333333333333333, \"#9c179e\"], [0.4444444444444444, \"#bd3786\"], [0.5555555555555556, \"#d8576b\"], [0.6666666666666666, \"#ed7953\"], [0.7777777777777778, \"#fb9f3a\"], [0.8888888888888888, \"#fdca26\"], [1.0, \"#f0f921\"]], \"type\": \"surface\"}], \"table\": [{\"cells\": {\"fill\": {\"color\": \"#EBF0F8\"}, \"line\": {\"color\": \"white\"}}, \"header\": {\"fill\": {\"color\": \"#C8D4E3\"}, \"line\": {\"color\": \"white\"}}, \"type\": \"table\"}]}, \"layout\": {\"annotationdefaults\": {\"arrowcolor\": \"#2a3f5f\", \"arrowhead\": 0, \"arrowwidth\": 1}, \"autotypenumbers\": \"strict\", \"coloraxis\": {\"colorbar\": {\"outlinewidth\": 0, \"ticks\": \"\"}}, \"colorscale\": {\"diverging\": [[0, \"#8e0152\"], [0.1, \"#c51b7d\"], [0.2, \"#de77ae\"], [0.3, \"#f1b6da\"], [0.4, \"#fde0ef\"], [0.5, \"#f7f7f7\"], [0.6, \"#e6f5d0\"], [0.7, \"#b8e186\"], [0.8, \"#7fbc41\"], [0.9, \"#4d9221\"], [1, \"#276419\"]], \"sequential\": [[0.0, \"#0d0887\"], [0.1111111111111111, \"#46039f\"], [0.2222222222222222, \"#7201a8\"], [0.3333333333333333, \"#9c179e\"], [0.4444444444444444, \"#bd3786\"], [0.5555555555555556, \"#d8576b\"], [0.6666666666666666, \"#ed7953\"], [0.7777777777777778, \"#fb9f3a\"], [0.8888888888888888, \"#fdca26\"], [1.0, \"#f0f921\"]], \"sequentialminus\": [[0.0, \"#0d0887\"], [0.1111111111111111, \"#46039f\"], [0.2222222222222222, \"#7201a8\"], [0.3333333333333333, \"#9c179e\"], [0.4444444444444444, \"#bd3786\"], [0.5555555555555556, \"#d8576b\"], [0.6666666666666666, \"#ed7953\"], [0.7777777777777778, \"#fb9f3a\"], [0.8888888888888888, \"#fdca26\"], [1.0, \"#f0f921\"]]}, \"colorway\": [\"#636efa\", \"#EF553B\", \"#00cc96\", \"#ab63fa\", \"#FFA15A\", \"#19d3f3\", \"#FF6692\", \"#B6E880\", \"#FF97FF\", \"#FECB52\"], \"font\": {\"color\": \"#2a3f5f\"}, \"geo\": {\"bgcolor\": \"white\", \"lakecolor\": \"white\", \"landcolor\": \"#E5ECF6\", \"showlakes\": true, \"showland\": true, \"subunitcolor\": \"white\"}, \"hoverlabel\": {\"align\": \"left\"}, \"hovermode\": \"closest\", \"mapbox\": {\"style\": \"light\"}, \"paper_bgcolor\": \"white\", \"plot_bgcolor\": \"#E5ECF6\", \"polar\": {\"angularaxis\": {\"gridcolor\": \"white\", \"linecolor\": \"white\", \"ticks\": \"\"}, \"bgcolor\": \"#E5ECF6\", \"radialaxis\": {\"gridcolor\": \"white\", \"linecolor\": \"white\", \"ticks\": \"\"}}, \"scene\": {\"xaxis\": {\"backgroundcolor\": \"#E5ECF6\", \"gridcolor\": \"white\", \"gridwidth\": 2, \"linecolor\": \"white\", \"showbackground\": true, \"ticks\": \"\", \"zerolinecolor\": \"white\"}, \"yaxis\": {\"backgroundcolor\": \"#E5ECF6\", \"gridcolor\": \"white\", \"gridwidth\": 2, \"linecolor\": \"white\", \"showbackground\": true, \"ticks\": \"\", \"zerolinecolor\": \"white\"}, \"zaxis\": {\"backgroundcolor\": \"#E5ECF6\", \"gridcolor\": \"white\", \"gridwidth\": 2, \"linecolor\": \"white\", \"showbackground\": true, \"ticks\": \"\", \"zerolinecolor\": \"white\"}}, \"shapedefaults\": {\"line\": {\"color\": \"#2a3f5f\"}}, \"ternary\": {\"aaxis\": {\"gridcolor\": \"white\", \"linecolor\": \"white\", \"ticks\": \"\"}, \"baxis\": {\"gridcolor\": \"white\", \"linecolor\": \"white\", \"ticks\": \"\"}, \"bgcolor\": \"#E5ECF6\", \"caxis\": {\"gridcolor\": \"white\", \"linecolor\": \"white\", \"ticks\": \"\"}}, \"title\": {\"x\": 0.05}, \"xaxis\": {\"automargin\": true, \"gridcolor\": \"white\", \"linecolor\": \"white\", \"ticks\": \"\", \"title\": {\"standoff\": 15}, \"zerolinecolor\": \"white\", \"zerolinewidth\": 2}, \"yaxis\": {\"automargin\": true, \"gridcolor\": \"white\", \"linecolor\": \"white\", \"ticks\": \"\", \"title\": {\"standoff\": 15}, \"zerolinecolor\": \"white\", \"zerolinewidth\": 2}}}, \"title\": {\"text\": \"Number of LGBT Bars Per U.S. Zipcode\"}, \"xaxis\": {\"title\": {\"text\": \"Number of Bars\"}}, \"yaxis\": {\"dtick\": 1, \"showticklabels\": true, \"title\": {\"text\": \"Zipcode\"}, \"type\": \"category\"}},                        {\"responsive\": true}                    )                };                            </script>        </div>\n"
     ]
    }
   ],
   "source": [
    " import plotly\n",
    " print(plotly.offline.plot(fig, include_plotlyjs=False, output_type='div'))"
   ]
  },
  {
   "cell_type": "code",
   "execution_count": 50,
   "metadata": {},
   "outputs": [],
   "source": [
    "##This dataset, from [data.world](https://data.world/the-pudding/gayborhoods) includes information concerning the demographics of cities containing a concentration of LGBTQ+ identifying folks, specifically showing patterns in martital status, bars and taxes._"
   ]
  },
  {
   "cell_type": "code",
   "execution_count": 51,
   "metadata": {},
   "outputs": [],
   "source": [
    "##The above visualization contains the number of understood LGBTQ+ bars per zipcode, specifically showing the top 15 zipcodes in the United States with the most amount of gay bars. While the source of the data unfortunately does not include city names, the top 4 zipcodes translate to these cities in order: San Francisco (17 bars), West Hollywood (15 bars), Seattle (12 bars), and New York (10 bars). Locating places to drink may seem insignificant on the surface, but for the LGBTQ+ community, it often serves as important information. Many queer/trans folks seeking to move to a more LGBTQ+ friendly area frequently take into account the number of gay bars, as those serve as central safe spaces to find others in the community."
   ]
  },
  {
   "cell_type": "code",
   "execution_count": null,
   "metadata": {},
   "outputs": [],
   "source": []
  }
 ],
 "metadata": {
  "kernelspec": {
   "display_name": "Python 3",
   "language": "python",
   "name": "python3"
  },
  "language_info": {
   "codemirror_mode": {
    "name": "ipython",
    "version": 3
   },
   "file_extension": ".py",
   "mimetype": "text/x-python",
   "name": "python",
   "nbconvert_exporter": "python",
   "pygments_lexer": "ipython3",
   "version": "3.8.8"
  }
 },
 "nbformat": 4,
 "nbformat_minor": 4
}
